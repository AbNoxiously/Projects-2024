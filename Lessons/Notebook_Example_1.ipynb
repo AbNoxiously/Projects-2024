{
 "cells": [
  {
   "cell_type": "code",
   "execution_count": 1,
   "id": "0e37a0f5-5464-427b-bff1-0098fab4fb92",
   "metadata": {},
   "outputs": [
    {
     "data": {
      "text/html": [
       "\n",
       "<script\n",
       "    src=\"https://cdnjs.cloudflare.com/ajax/libs/jquery/2.0.3/jquery.min.js \">\n",
       "</script>\n",
       "<script>\n",
       "code_show=true; \n",
       "function code_toggle() {\n",
       " if (code_show){\n",
       " $('div.jp-CodeCell > div.jp-Cell-inputWrapper').hide();\n",
       " } else {\n",
       "$('div.jp-CodeCell > div.jp-Cell-inputWrapper').show();\n",
       " }\n",
       " code_show = !code_show\n",
       "} \n",
       "$( document ).ready(code_toggle);\n",
       "</script>\n",
       "<form action=\"javascript:code_toggle()\"><input type=\"submit\"\n",
       "    value=\"Click here to toggle on/off the raw code.\"></form>\n"
      ],
      "text/plain": [
       "<IPython.core.display.HTML object>"
      ]
     },
     "execution_count": 1,
     "metadata": {},
     "output_type": "execute_result"
    }
   ],
   "source": [
    "# Imported Modules\n",
    "\n",
    "import numpy as np\n",
    "import pandas as pd\n",
    "import matplotlib.pyplot as plt\n",
    "from figure_labeler import *\n",
    "\n",
    "from IPython.display import HTML\n",
    "HTML('''\n",
    "<script\n",
    "    src=\"https://cdnjs.cloudflare.com/ajax/libs/jquery/2.0.3/jquery.min.js \">\n",
    "</script>\n",
    "<script>\n",
    "code_show=true; \n",
    "function code_toggle() {\n",
    " if (code_show){\n",
    " $('div.jp-CodeCell > div.jp-Cell-inputWrapper').hide();\n",
    " } else {\n",
    "$('div.jp-CodeCell > div.jp-Cell-inputWrapper').show();\n",
    " }\n",
    " code_show = !code_show\n",
    "} \n",
    "$( document ).ready(code_toggle);\n",
    "</script>\n",
    "<form action=\"javascript:code_toggle()\"><input type=\"submit\"\n",
    "    value=\"Click here to toggle on/off the raw code.\"></form>\n",
    "''')"
   ]
  },
  {
   "cell_type": "code",
   "execution_count": 2,
   "id": "5b81178f-d2ff-4819-bfa5-bee1fe148cd8",
   "metadata": {},
   "outputs": [],
   "source": [
    "fl = FigureLabeler();\n",
    "pd.options.mode.chained_assignment = None\n",
    "\n",
    "##### How to use the figure labeler\n",
    "\n",
    "### Using the Table captioner ###\n",
    "# fl.table_caption(\"Insert your Table title here\",\n",
    "#                  \"Insert your Table sub-header here\")\n",
    "# display(your_df)\n",
    "\n",
    "### Using the plot captioner ###\n",
    "# plt.show()\n",
    "# fl.fig_caption(\"Insert your plot title here\",\n",
    "#                \"Insert your plot sub-header here\")"
   ]
  },
  {
   "cell_type": "code",
   "execution_count": 3,
   "id": "9b97d35b-2e5c-47be-85ec-9bf4d0528c61",
   "metadata": {},
   "outputs": [],
   "source": [
    "data = {\n",
    "    'Name': ['Alice', 'Bob', 'Charlie', 'David', 'Emily'],\n",
    "    'Age': [25, 30, 35, 40, 45],\n",
    "    'City': ['New York', 'Los Angeles', 'Chicago', 'Houston', 'Phoenix'],\n",
    "    'Salary': [60000, 70000, 80000, 90000, 100000]\n",
    "}\n",
    "\n",
    "# Create DataFrame\n",
    "df = pd.DataFrame(data)"
   ]
  },
  {
   "cell_type": "code",
   "execution_count": 4,
   "id": "8b2d7fd5-6540-481a-a50d-79b5c3f7ceba",
   "metadata": {},
   "outputs": [
    {
     "data": {
      "text/html": [
       "<p style=\"font-size:12px;font-style:default;\"><b>\n",
       "                         Table 1. Sample DF.</b><br>a sample dataframe generated from chat-gpt for class purposes</p>"
      ],
      "text/plain": [
       "<IPython.core.display.HTML object>"
      ]
     },
     "metadata": {},
     "output_type": "display_data"
    },
    {
     "data": {
      "text/html": [
       "<div>\n",
       "<style scoped>\n",
       "    .dataframe tbody tr th:only-of-type {\n",
       "        vertical-align: middle;\n",
       "    }\n",
       "\n",
       "    .dataframe tbody tr th {\n",
       "        vertical-align: top;\n",
       "    }\n",
       "\n",
       "    .dataframe thead th {\n",
       "        text-align: right;\n",
       "    }\n",
       "</style>\n",
       "<table border=\"1\" class=\"dataframe\">\n",
       "  <thead>\n",
       "    <tr style=\"text-align: right;\">\n",
       "      <th></th>\n",
       "      <th>Name</th>\n",
       "      <th>Age</th>\n",
       "      <th>City</th>\n",
       "      <th>Salary</th>\n",
       "    </tr>\n",
       "  </thead>\n",
       "  <tbody>\n",
       "    <tr>\n",
       "      <th>0</th>\n",
       "      <td>Alice</td>\n",
       "      <td>25</td>\n",
       "      <td>New York</td>\n",
       "      <td>60000</td>\n",
       "    </tr>\n",
       "    <tr>\n",
       "      <th>1</th>\n",
       "      <td>Bob</td>\n",
       "      <td>30</td>\n",
       "      <td>Los Angeles</td>\n",
       "      <td>70000</td>\n",
       "    </tr>\n",
       "    <tr>\n",
       "      <th>2</th>\n",
       "      <td>Charlie</td>\n",
       "      <td>35</td>\n",
       "      <td>Chicago</td>\n",
       "      <td>80000</td>\n",
       "    </tr>\n",
       "    <tr>\n",
       "      <th>3</th>\n",
       "      <td>David</td>\n",
       "      <td>40</td>\n",
       "      <td>Houston</td>\n",
       "      <td>90000</td>\n",
       "    </tr>\n",
       "    <tr>\n",
       "      <th>4</th>\n",
       "      <td>Emily</td>\n",
       "      <td>45</td>\n",
       "      <td>Phoenix</td>\n",
       "      <td>100000</td>\n",
       "    </tr>\n",
       "  </tbody>\n",
       "</table>\n",
       "</div>"
      ],
      "text/plain": [
       "      Name  Age         City  Salary\n",
       "0    Alice   25     New York   60000\n",
       "1      Bob   30  Los Angeles   70000\n",
       "2  Charlie   35      Chicago   80000\n",
       "3    David   40      Houston   90000\n",
       "4    Emily   45      Phoenix  100000"
      ]
     },
     "metadata": {},
     "output_type": "display_data"
    }
   ],
   "source": [
    "fl.table_caption(\"Sample DF\",\n",
    "                 \"a sample dataframe generated from chat-gpt for class purposes\")\n",
    "display(df)"
   ]
  },
  {
   "cell_type": "code",
   "execution_count": 5,
   "id": "fd43e54a-045e-4ad8-b985-b97a576e51d0",
   "metadata": {},
   "outputs": [
    {
     "data": {
      "image/png": "[encoded data removed]",
      "text/plain": [
       "<Figure size 800x600 with 1 Axes>"
      ]
     },
     "metadata": {},
     "output_type": "display_data"
    },
    {
     "data": {
      "text/html": [
       "<p style=\"font-size:12px;font-style:default;\"><b>\n",
       "                         Figure 1. A sample plot.</b><br>a sample bar plot generated from chat-gpt for class purposes</p>"
      ],
      "text/plain": [
       "<IPython.core.display.HTML object>"
      ]
     },
     "metadata": {},
     "output_type": "display_data"
    }
   ],
   "source": [
    "data = {\n",
    "    'Name': ['Alice', 'Bob', 'Charlie', 'David', 'Emily'],\n",
    "    'Age': [25, 30, 35, 40, 45],\n",
    "    'City': ['New York', 'Los Angeles', 'Chicago', 'Houston', 'Phoenix'],\n",
    "    'Salary': [60000, 70000, 80000, 90000, 100000]\n",
    "}\n",
    "\n",
    "df = pd.DataFrame(data)\n",
    "\n",
    "plt.figure(figsize=(8, 6))\n",
    "plt.bar(df['Name'], df['Salary'], color='skyblue')\n",
    "plt.xlabel('Name')\n",
    "plt.ylabel('Salary ($)')\n",
    "plt.title('Salaries of Individuals')\n",
    "plt.xticks(rotation=45)\n",
    "plt.grid(axis='y', linestyle='--', alpha=0.7)\n",
    "plt.show()\n",
    "\n",
    "fl.fig_caption(\"A sample plot\",\n",
    "               \"a sample bar plot generated from chat-gpt for class purposes\")"
   ]
  },
  {
   "cell_type": "code",
   "execution_count": 6,
   "id": "a4a64791-a564-477f-9bca-1aad359540f1",
   "metadata": {},
   "outputs": [
    {
     "data": {
      "image/png": "[encoded data removed]",
      "text/plain": [
       "<Figure size 800x600 with 1 Axes>"
      ]
     },
     "metadata": {},
     "output_type": "display_data"
    },
    {
     "data": {
      "text/html": [
       "<p style=\"font-size:12px;font-style:default;\"><b>\n",
       "                         Figure 2. A sample plot part 2.</b><br>a sample bar plot generated from chat-gpt for class purposes (replotted)</p>"
      ],
      "text/plain": [
       "<IPython.core.display.HTML object>"
      ]
     },
     "metadata": {},
     "output_type": "display_data"
    }
   ],
   "source": [
    "plt.figure(figsize=(8, 6))\n",
    "plt.bar(df['Name'], df['Salary'], color='skyblue')\n",
    "plt.xlabel('Name')\n",
    "plt.ylabel('Salary ($)')\n",
    "plt.title('Salaries of Individuals')\n",
    "plt.xticks(rotation=45)\n",
    "plt.grid(axis='y', linestyle='--', alpha=0.7)\n",
    "plt.show()\n",
    "\n",
    "fl.fig_caption(\"A sample plot part 2\",\n",
    "               \"a sample bar plot generated from chat-gpt for class purposes (replotted)\")"
   ]
  },
  {
   "cell_type": "markdown",
   "id": "45d7fcda-d5c6-4265-95af-16742ce98d78",
   "metadata": {
    "tags": []
   },
   "source": [
    "<div style=\"text-align:center\">\n",
    "    <img src=\"sample_image.JPG\" alt=\"sample image for the notebook\" width=\"750\">\n",
    "</div>\n",
    "\n",
    "<h1 style=\"text-align:center;\">Insert Your Title Here</h1>\n",
    "<hr>\n",
    "\n",
    "<a name=\"top\"></a>\n",
    "#### This is a Sample of Table of Contents:\n",
    "\n",
    "[ref0]: #exec_summary\n",
    "- [Executive Summary][ref0]\n",
    "\n",
    "[ref1]: #prob_stat\n",
    "- [Problem Statement][ref1]\n",
    "\n",
    "[ref2]: #motiv\n",
    "- [Motivation][ref2]\n",
    "\n",
    "[ref3]: #dat_sor\n",
    "- [Data Source][ref3]\n",
    "\n",
    "[ref4]: #dat_prep\n",
    "- [Data Preprocessing][ref4]\n",
    "\n",
    "[ref5]: #dat_expl\n",
    "- [Data Exploration][ref5]\n",
    "\n",
    "[ref6]: #res_dis\n",
    "- [Results and Discussions][ref6]\n",
    "\n",
    "[ref7]: #conc\n",
    "- [Conclusion and Recommendations][ref7]\n",
    "\n",
    "[ref8]: #refe\n",
    "- [References][ref8]\n",
    "\n",
    "***"
   ]
  },
  {
   "cell_type": "markdown",
   "id": "15d6974b-f20b-45e3-8d7b-779622196da8",
   "metadata": {},
   "source": [
    "<a name=\"exec_summary\"></a>\n",
    "## Executive Summary\n",
    "***\n",
    "\n",
    "Insert your executive summary here\n",
    "\n",
    "[ref]: #top\n",
    "[Back to Table of Contents][ref]"
   ]
  },
  {
   "cell_type": "markdown",
   "id": "ffaf6429-6512-4a8a-bfa9-24b61b13c16a",
   "metadata": {},
   "source": [
    "<a name=\"prob_stat\"></a>\n",
    "## Problem Statement\n",
    "***\n",
    "\n",
    "Insert your problem statement here\n",
    "\n",
    "[ref]: #top\n",
    "[Back to Table of Contents][ref]"
   ]
  },
  {
   "cell_type": "markdown",
   "id": "cd743136-cd8c-4dac-b8c9-82e253c874fb",
   "metadata": {},
   "source": [
    "<a name=\"motiv\"></a>\n",
    "## Motivation\n",
    "***\n",
    "\n",
    "Insert your motivation here\n",
    "\n",
    "[ref]: #top\n",
    "[Back to Table of Contents][ref]"
   ]
  },
  {
   "cell_type": "markdown",
   "id": "cb1dcb44-7eab-4475-a5b1-15d09128aa0f",
   "metadata": {},
   "source": [
    "<a name=\"dat_sor\"></a>\n",
    "## Data Source\n",
    "***\n",
    "\n",
    "Insert your data source and description here\n",
    "\n",
    "[ref]: #top\n",
    "[Back to Table of Contents][ref]"
   ]
  },
  {
   "cell_type": "markdown",
   "id": "6b036c8c-b5c1-440f-a037-82ccc5be3483",
   "metadata": {},
   "source": [
    "<a name=\"dat_prep\"></a>\n",
    "## Data Preprocessing\n",
    "***\n",
    "\n",
    "Insert your data preprocessing steps here\n",
    "\n",
    "[ref]: #top\n",
    "[Back to Table of Contents][ref]"
   ]
  },
  {
   "cell_type": "markdown",
   "id": "ddf4c9e5-6f6d-475b-98bb-ba157dd8cb10",
   "metadata": {},
   "source": [
    "<a name=\"dat_expl\"></a>\n",
    "## Data Exploration\n",
    "***\n",
    "\n",
    "Insert your data exploration here\n",
    "\n",
    "[ref]: #top\n",
    "[Back to Table of Contents][ref]"
   ]
  },
  {
   "cell_type": "markdown",
   "id": "70345fa1-1d82-4aaa-8c6c-8966ba2e658a",
   "metadata": {},
   "source": [
    "<a name=\"res_dis\"></a>\n",
    "## Results and Discussions\n",
    "***\n",
    "\n",
    "Insert your results and discussions here\n",
    "\n",
    "[ref]: #top\n",
    "[Back to Table of Contents][ref]"
   ]
  },
  {
   "cell_type": "markdown",
   "id": "119fdfc9-3194-4991-9106-09d016667c69",
   "metadata": {},
   "source": [
    "<a name=\"conc\"></a>\n",
    "## Conclusion and Recommendations\n",
    "***\n",
    "\n",
    "Insert your conclusions and recommendations here\n",
    "\n",
    "[ref]: #top\n",
    "[Back to Table of Contents][ref]"
   ]
  },
  {
   "cell_type": "markdown",
   "id": "21434384-0278-41c7-9642-4ee5c7578fdf",
   "metadata": {},
   "source": [
    "<a name=\"refe\"></a>\n",
    "## References\n",
    "***\n",
    "\n",
    "Insert your references here\n",
    "\n",
    "[ref]: #top\n",
    "[Back to Table of Contents][ref]"
   ]
  }
 ],
 "metadata": {
  "kernelspec": {
   "display_name": "Python 3 (ipykernel)",
   "language": "python",
   "name": "python3"
  },
  "language_info": {
   "codemirror_mode": {
    "name": "ipython",
    "version": 3
   },
   "file_extension": ".py",
   "mimetype": "text/x-python",
   "name": "python",
   "nbconvert_exporter": "python",
   "pygments_lexer": "ipython3",
   "version": "3.11.7"
  }
 },
 "nbformat": 4,
 "nbformat_minor": 5
}
